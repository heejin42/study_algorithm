{
 "cells": [
  {
   "cell_type": "markdown",
   "metadata": {},
   "source": [
    "## 학생 성적 예측하기\n",
    "이번에는 학생 성적 예측 문제를 선형 회귀와 랜덤포레스트 두 가지 모델로 해보겠다."
   ]
  },
  {
   "cell_type": "code",
   "execution_count": 1,
   "metadata": {},
   "outputs": [
    {
     "data": {
      "text/html": [
       "<div>\n",
       "<style scoped>\n",
       "    .dataframe tbody tr th:only-of-type {\n",
       "        vertical-align: middle;\n",
       "    }\n",
       "\n",
       "    .dataframe tbody tr th {\n",
       "        vertical-align: top;\n",
       "    }\n",
       "\n",
       "    .dataframe thead th {\n",
       "        text-align: right;\n",
       "    }\n",
       "</style>\n",
       "<table border=\"1\" class=\"dataframe\">\n",
       "  <thead>\n",
       "    <tr style=\"text-align: right;\">\n",
       "      <th></th>\n",
       "      <th>gender</th>\n",
       "      <th>race/ethnicity</th>\n",
       "      <th>parental level of education</th>\n",
       "      <th>lunch</th>\n",
       "      <th>test preparation course</th>\n",
       "      <th>math score</th>\n",
       "      <th>reading score</th>\n",
       "      <th>writing score</th>\n",
       "    </tr>\n",
       "  </thead>\n",
       "  <tbody>\n",
       "    <tr>\n",
       "      <th>0</th>\n",
       "      <td>female</td>\n",
       "      <td>group D</td>\n",
       "      <td>some college</td>\n",
       "      <td>standard</td>\n",
       "      <td>completed</td>\n",
       "      <td>59</td>\n",
       "      <td>70</td>\n",
       "      <td>78</td>\n",
       "    </tr>\n",
       "    <tr>\n",
       "      <th>1</th>\n",
       "      <td>male</td>\n",
       "      <td>group D</td>\n",
       "      <td>associate's degree</td>\n",
       "      <td>standard</td>\n",
       "      <td>none</td>\n",
       "      <td>96</td>\n",
       "      <td>93</td>\n",
       "      <td>87</td>\n",
       "    </tr>\n",
       "    <tr>\n",
       "      <th>2</th>\n",
       "      <td>female</td>\n",
       "      <td>group D</td>\n",
       "      <td>some college</td>\n",
       "      <td>free/reduced</td>\n",
       "      <td>none</td>\n",
       "      <td>57</td>\n",
       "      <td>76</td>\n",
       "      <td>77</td>\n",
       "    </tr>\n",
       "    <tr>\n",
       "      <th>3</th>\n",
       "      <td>male</td>\n",
       "      <td>group B</td>\n",
       "      <td>some college</td>\n",
       "      <td>free/reduced</td>\n",
       "      <td>none</td>\n",
       "      <td>70</td>\n",
       "      <td>70</td>\n",
       "      <td>63</td>\n",
       "    </tr>\n",
       "    <tr>\n",
       "      <th>4</th>\n",
       "      <td>female</td>\n",
       "      <td>group D</td>\n",
       "      <td>associate's degree</td>\n",
       "      <td>standard</td>\n",
       "      <td>none</td>\n",
       "      <td>83</td>\n",
       "      <td>85</td>\n",
       "      <td>86</td>\n",
       "    </tr>\n",
       "  </tbody>\n",
       "</table>\n",
       "</div>"
      ],
      "text/plain": [
       "   gender race/ethnicity parental level of education         lunch  \\\n",
       "0  female        group D                some college      standard   \n",
       "1    male        group D          associate's degree      standard   \n",
       "2  female        group D                some college  free/reduced   \n",
       "3    male        group B                some college  free/reduced   \n",
       "4  female        group D          associate's degree      standard   \n",
       "\n",
       "  test preparation course  math score  reading score  writing score  \n",
       "0               completed          59             70             78  \n",
       "1                    none          96             93             87  \n",
       "2                    none          57             76             77  \n",
       "3                    none          70             70             63  \n",
       "4                    none          83             85             86  "
      ]
     },
     "execution_count": 1,
     "metadata": {},
     "output_type": "execute_result"
    }
   ],
   "source": [
    "import pandas as pd\n",
    "import numpy as np\n",
    "import seaborn as sns\n",
    "import matplotlib.pyplot as plt\n",
    "\n",
    "df = pd.read_csv('../data/exams.csv')\n",
    "df.head()"
   ]
  },
  {
   "cell_type": "code",
   "execution_count": 3,
   "metadata": {},
   "outputs": [
    {
     "name": "stdout",
     "output_type": "stream",
     "text": [
      "<class 'pandas.core.frame.DataFrame'>\n",
      "RangeIndex: 1000 entries, 0 to 999\n",
      "Data columns (total 8 columns):\n",
      " #   Column                       Non-Null Count  Dtype \n",
      "---  ------                       --------------  ----- \n",
      " 0   gender                       1000 non-null   object\n",
      " 1   race/ethnicity               1000 non-null   object\n",
      " 2   parental level of education  1000 non-null   object\n",
      " 3   lunch                        1000 non-null   object\n",
      " 4   test preparation course      1000 non-null   object\n",
      " 5   math score                   1000 non-null   int64 \n",
      " 6   reading score                1000 non-null   int64 \n",
      " 7   writing score                1000 non-null   int64 \n",
      "dtypes: int64(3), object(5)\n",
      "memory usage: 62.6+ KB\n",
      "None\n",
      "        math score  reading score  writing score\n",
      "count  1000.000000    1000.000000    1000.000000\n",
      "mean     67.810000      70.382000      69.140000\n",
      "std      15.250196      14.107413      15.025917\n",
      "min      15.000000      25.000000      15.000000\n",
      "25%      58.000000      61.000000      59.000000\n",
      "50%      68.000000      70.500000      70.000000\n",
      "75%      79.250000      80.000000      80.000000\n",
      "max     100.000000     100.000000     100.000000\n"
     ]
    }
   ],
   "source": [
    "print(df.info())\n",
    "print(df.describe())"
   ]
  },
  {
   "cell_type": "code",
   "execution_count": 9,
   "metadata": {},
   "outputs": [
    {
     "data": {
      "image/png": "[encoded data removed]",
      "text/plain": [
       "<Figure size 1440x1440 with 1 Axes>"
      ]
     },
     "metadata": {
      "needs_background": "light"
     },
     "output_type": "display_data"
    }
   ],
   "source": []
  },
  {
   "cell_type": "code",
   "execution_count": 16,
   "metadata": {},
   "outputs": [],
   "source": [
    "df1 = df.groupby(\"race/ethnicity\")[['math score', 'reading score', 'writing score']].mean()\n",
    "df2 = df.groupby(\"parental level of education\")[['math score', 'reading score', 'writing score']].mean()\n",
    "df3 = df.groupby(\"gender\")[['math score', 'reading score', 'writing score']].mean()\n",
    "df4 = df.groupby(\"lunch\")[['math score', 'reading score', 'writing score']].mean()\n",
    "df5= df.groupby(\"test preparation course\")[['math score', 'reading score', 'writing score']].mean()"
   ]
  },
  {
   "cell_type": "code",
   "execution_count": 17,
   "metadata": {},
   "outputs": [
    {
     "data": {
      "text/plain": [
       "(                math score  reading score  writing score\n",
       " race/ethnicity                                          \n",
       " group A          65.696203      69.202532      67.848101\n",
       " group B          64.070707      68.530303      66.717172\n",
       " group C          65.510836      68.609907      66.804954\n",
       " group D          68.879377      70.929961      71.058366\n",
       " group E          77.426573      76.615385      75.034965,\n",
       "                              math score  reading score  writing score\n",
       " parental level of education                                          \n",
       " associate's degree            70.348039      72.647059      72.039216\n",
       " bachelor's degree             69.866667      71.819048      72.266667\n",
       " high school                   65.381395      69.223256      66.772093\n",
       " master's degree               71.026667      71.973333      71.746667\n",
       " some college                  68.642857      70.941964      69.473214\n",
       " some high school              64.197740      66.943503      65.293785,\n",
       "         math score  reading score  writing score\n",
       " gender                                          \n",
       " female    64.77439      73.473577      73.439024\n",
       " male      70.75000      67.387795      64.976378,\n",
       "               math score  reading score  writing score\n",
       " lunch                                                 \n",
       " free/reduced   59.900000      65.641176      64.235294\n",
       " standard       71.884848      72.824242      71.666667,\n",
       "                          math score  reading score  writing score\n",
       " test preparation course                                          \n",
       " completed                 70.334302      74.726744      75.808140\n",
       " none                      66.486280      68.103659      65.643293)"
      ]
     },
     "execution_count": 17,
     "metadata": {},
     "output_type": "execute_result"
    }
   ],
   "source": [
    "df1, df2, df3, df4, df5"
   ]
  },
  {
   "cell_type": "code",
   "execution_count": 20,
   "metadata": {},
   "outputs": [],
   "source": [
    "df['test preparation course'] = df['test preparation course'].map({'completed':1, 'none':0})\n",
    "df['gender'] = df['gender'].map({'male':0, 'female':1})\n",
    "df['lunch'] = df['lunch'].map({'free/reduced':0, 'standard':1})\n",
    "df['parental level of education'] = df['parental level of education'].map({\"associate's degree\":3, \"bachelor's degree\":4, \"master's degree\":5, 'some college':2, 'high school':1, 'some high school':1})\n",
    "df['race/ethnicity'] = df['race/ethnicity'].map({'group A':1, 'group B':2, 'group C':3, 'group D':4, 'group E': 5})"
   ]
  },
  {
   "cell_type": "code",
   "execution_count": 21,
   "metadata": {},
   "outputs": [
    {
     "data": {
      "text/html": [
       "<div>\n",
       "<style scoped>\n",
       "    .dataframe tbody tr th:only-of-type {\n",
       "        vertical-align: middle;\n",
       "    }\n",
       "\n",
       "    .dataframe tbody tr th {\n",
       "        vertical-align: top;\n",
       "    }\n",
       "\n",
       "    .dataframe thead th {\n",
       "        text-align: right;\n",
       "    }\n",
       "</style>\n",
       "<table border=\"1\" class=\"dataframe\">\n",
       "  <thead>\n",
       "    <tr style=\"text-align: right;\">\n",
       "      <th></th>\n",
       "      <th>gender</th>\n",
       "      <th>race/ethnicity</th>\n",
       "      <th>parental level of education</th>\n",
       "      <th>lunch</th>\n",
       "      <th>test preparation course</th>\n",
       "      <th>math score</th>\n",
       "      <th>reading score</th>\n",
       "      <th>writing score</th>\n",
       "    </tr>\n",
       "  </thead>\n",
       "  <tbody>\n",
       "    <tr>\n",
       "      <th>0</th>\n",
       "      <td>1</td>\n",
       "      <td>4</td>\n",
       "      <td>2</td>\n",
       "      <td>1</td>\n",
       "      <td>1</td>\n",
       "      <td>59</td>\n",
       "      <td>70</td>\n",
       "      <td>78</td>\n",
       "    </tr>\n",
       "    <tr>\n",
       "      <th>1</th>\n",
       "      <td>0</td>\n",
       "      <td>4</td>\n",
       "      <td>3</td>\n",
       "      <td>1</td>\n",
       "      <td>0</td>\n",
       "      <td>96</td>\n",
       "      <td>93</td>\n",
       "      <td>87</td>\n",
       "    </tr>\n",
       "    <tr>\n",
       "      <th>2</th>\n",
       "      <td>1</td>\n",
       "      <td>4</td>\n",
       "      <td>2</td>\n",
       "      <td>0</td>\n",
       "      <td>0</td>\n",
       "      <td>57</td>\n",
       "      <td>76</td>\n",
       "      <td>77</td>\n",
       "    </tr>\n",
       "    <tr>\n",
       "      <th>3</th>\n",
       "      <td>0</td>\n",
       "      <td>2</td>\n",
       "      <td>2</td>\n",
       "      <td>0</td>\n",
       "      <td>0</td>\n",
       "      <td>70</td>\n",
       "      <td>70</td>\n",
       "      <td>63</td>\n",
       "    </tr>\n",
       "    <tr>\n",
       "      <th>4</th>\n",
       "      <td>1</td>\n",
       "      <td>4</td>\n",
       "      <td>3</td>\n",
       "      <td>1</td>\n",
       "      <td>0</td>\n",
       "      <td>83</td>\n",
       "      <td>85</td>\n",
       "      <td>86</td>\n",
       "    </tr>\n",
       "    <tr>\n",
       "      <th>...</th>\n",
       "      <td>...</td>\n",
       "      <td>...</td>\n",
       "      <td>...</td>\n",
       "      <td>...</td>\n",
       "      <td>...</td>\n",
       "      <td>...</td>\n",
       "      <td>...</td>\n",
       "      <td>...</td>\n",
       "    </tr>\n",
       "    <tr>\n",
       "      <th>995</th>\n",
       "      <td>0</td>\n",
       "      <td>3</td>\n",
       "      <td>2</td>\n",
       "      <td>1</td>\n",
       "      <td>0</td>\n",
       "      <td>77</td>\n",
       "      <td>77</td>\n",
       "      <td>71</td>\n",
       "    </tr>\n",
       "    <tr>\n",
       "      <th>996</th>\n",
       "      <td>0</td>\n",
       "      <td>3</td>\n",
       "      <td>2</td>\n",
       "      <td>1</td>\n",
       "      <td>0</td>\n",
       "      <td>80</td>\n",
       "      <td>66</td>\n",
       "      <td>66</td>\n",
       "    </tr>\n",
       "    <tr>\n",
       "      <th>997</th>\n",
       "      <td>1</td>\n",
       "      <td>1</td>\n",
       "      <td>1</td>\n",
       "      <td>1</td>\n",
       "      <td>1</td>\n",
       "      <td>67</td>\n",
       "      <td>86</td>\n",
       "      <td>86</td>\n",
       "    </tr>\n",
       "    <tr>\n",
       "      <th>998</th>\n",
       "      <td>0</td>\n",
       "      <td>5</td>\n",
       "      <td>1</td>\n",
       "      <td>1</td>\n",
       "      <td>0</td>\n",
       "      <td>80</td>\n",
       "      <td>72</td>\n",
       "      <td>62</td>\n",
       "    </tr>\n",
       "    <tr>\n",
       "      <th>999</th>\n",
       "      <td>0</td>\n",
       "      <td>4</td>\n",
       "      <td>1</td>\n",
       "      <td>1</td>\n",
       "      <td>0</td>\n",
       "      <td>58</td>\n",
       "      <td>47</td>\n",
       "      <td>45</td>\n",
       "    </tr>\n",
       "  </tbody>\n",
       "</table>\n",
       "<p>1000 rows × 8 columns</p>\n",
       "</div>"
      ],
      "text/plain": [
       "     gender  race/ethnicity  parental level of education  lunch  \\\n",
       "0         1               4                            2      1   \n",
       "1         0               4                            3      1   \n",
       "2         1               4                            2      0   \n",
       "3         0               2                            2      0   \n",
       "4         1               4                            3      1   \n",
       "..      ...             ...                          ...    ...   \n",
       "995       0               3                            2      1   \n",
       "996       0               3                            2      1   \n",
       "997       1               1                            1      1   \n",
       "998       0               5                            1      1   \n",
       "999       0               4                            1      1   \n",
       "\n",
       "     test preparation course  math score  reading score  writing score  \n",
       "0                          1          59             70             78  \n",
       "1                          0          96             93             87  \n",
       "2                          0          57             76             77  \n",
       "3                          0          70             70             63  \n",
       "4                          0          83             85             86  \n",
       "..                       ...         ...            ...            ...  \n",
       "995                        0          77             77             71  \n",
       "996                        0          80             66             66  \n",
       "997                        1          67             86             86  \n",
       "998                        0          80             72             62  \n",
       "999                        0          58             47             45  \n",
       "\n",
       "[1000 rows x 8 columns]"
      ]
     },
     "execution_count": 21,
     "metadata": {},
     "output_type": "execute_result"
    }
   ],
   "source": [
    "df"
   ]
  },
  {
   "cell_type": "code",
   "execution_count": 25,
   "metadata": {},
   "outputs": [
    {
     "data": {
      "image/png": "[encoded data removed]",
      "text/plain": [
       "<Figure size 1440x1440 with 2 Axes>"
      ]
     },
     "metadata": {
      "needs_background": "light"
     },
     "output_type": "display_data"
    }
   ],
   "source": [
    "# 시각화 및 전처리\n",
    "fig = plt.figure(figsize=(20,20))\n",
    "ax = sns.heatmap(df.corr())"
   ]
  },
  {
   "cell_type": "code",
   "execution_count": 39,
   "metadata": {},
   "outputs": [
    {
     "name": "stdout",
     "output_type": "stream",
     "text": [
      "lrmodel train accuracy:  0.9194931450127206\n",
      "lrmodel test accuaracy:  0.886613443295562\n",
      "rfmodel train accuracy:  0.9397278471702896\n",
      "rfmodel test accuaracy:  0.8684322891101378\n"
     ]
    }
   ],
   "source": [
    "from sklearn.model_selection import train_test_split\n",
    "from sklearn import metrics\n",
    "from sklearn.preprocessing import MinMaxScaler\n",
    "from sklearn.linear_model import LinearRegression\n",
    "from sklearn.ensemble import RandomForestRegressor\n",
    "\n",
    "train_df, test_df = train_test_split(df, train_size = 0.8)\n",
    "features = ['gender','race/ethnicity','parental level of education','lunch','test preparation course', 'writing score']\n",
    "target = 'reading score'\n",
    "train_x = train_df[features]\n",
    "train_y = train_df[target]\n",
    "test_x = test_df[features]\n",
    "test_y = test_df[target]\n",
    "\n",
    "lrmodel = LinearRegression()\n",
    "lrmodel.fit(train_x, train_y)\n",
    "print('lrmodel train accuracy: ', lrmodel.score(train_x, train_y))\n",
    "print('lrmodel test accuaracy: ', lrmodel.score(test_x, test_y))\n",
    "\n",
    "rfmodel = RandomForestRegressor(n_estimators=70, max_depth=6)\n",
    "rfmodel.fit(train_x, train_y)\n",
    "print('rfmodel train accuracy: ', rfmodel.score(train_x, train_y))\n",
    "print('rfmodel test accuaracy: ', rfmodel.score(test_x, test_y))"
   ]
  },
  {
   "cell_type": "code",
   "execution_count": 33,
   "metadata": {},
   "outputs": [
    {
     "data": {
      "text/plain": [
       "<AxesSubplot:>"
      ]
     },
     "execution_count": 33,
     "metadata": {},
     "output_type": "execute_result"
    },
    {
     "data": {
      "image/png": "[encoded data removed]",
      "text/plain": [
       "<Figure size 432x288 with 1 Axes>"
      ]
     },
     "metadata": {
      "needs_background": "light"
     },
     "output_type": "display_data"
    }
   ],
   "source": [
    "scores = []\n",
    "for i in range(50, 100, 5):\n",
    "    rfmodel = RandomForestRegressor(n_estimators=i, max_depth=6)\n",
    "    rfmodel.fit(train_x, train_y)\n",
    "    scores.append(rfmodel.score(test_x, test_y))\n",
    "    \n",
    "sns.lineplot(x=range(50, 100, 5), y=scores)"
   ]
  },
  {
   "cell_type": "code",
   "execution_count": 36,
   "metadata": {},
   "outputs": [
    {
     "data": {
      "text/plain": [
       "['gender',\n",
       " 'race/ethnicity',\n",
       " 'parental level of education',\n",
       " 'lunch',\n",
       " 'test preparation course',\n",
       " 'math score',\n",
       " 'reading score',\n",
       " 'writing score']"
      ]
     },
     "execution_count": 36,
     "metadata": {},
     "output_type": "execute_result"
    }
   ],
   "source": [
    "df.columns.tolist()"
   ]
  },
  {
   "cell_type": "code",
   "execution_count": null,
   "metadata": {},
   "outputs": [],
   "source": []
  }
 ],
 "metadata": {
  "kernelspec": {
   "display_name": "Python 3",
   "language": "python",
   "name": "python3"
  },
  "language_info": {
   "codemirror_mode": {
    "name": "ipython",
    "version": 3
   },
   "file_extension": ".py",
   "mimetype": "text/x-python",
   "name": "python",
   "nbconvert_exporter": "python",
   "pygments_lexer": "ipython3",
   "version": "3.8.5"
  }
 },
 "nbformat": 4,
 "nbformat_minor": 4
}
